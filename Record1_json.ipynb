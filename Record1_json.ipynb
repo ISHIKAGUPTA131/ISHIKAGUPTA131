{
  "nbformat": 4,
  "nbformat_minor": 0,
  "metadata": {
    "colab": {
      "name": "Record1.json",
      "provenance": [],
      "collapsed_sections": [],
      "authorship_tag": "ABX9TyO54v9gQdgSMzMirrh6y/1S",
      "include_colab_link": true
    },
    "kernelspec": {
      "name": "python3",
      "display_name": "Python 3"
    },
    "language_info": {
      "name": "python"
    }
  },
  "cells": [
    {
      "cell_type": "markdown",
      "metadata": {
        "id": "view-in-github",
        "colab_type": "text"
      },
      "source": [
        "<a href=\"https://colab.research.google.com/github/ISHIKAGUPTA131/ISHIKAGUPTA131/blob/main/Record1_json.ipynb\" target=\"_parent\"><img src=\"https://colab.research.google.com/assets/colab-badge.svg\" alt=\"Open In Colab\"/></a>"
      ]
    },
    {
      "cell_type": "code",
      "metadata": {
        "id": "Xw8G8zGrW8bU",
        "colab": {
          "base_uri": "https://localhost:8080/"
        },
        "outputId": "801bb54f-14cf-4a06-faf3-ca46c39140aa"
      },
      "source": [
        "record={100:{\"name\":\"cadbury silk\",\"category\":\"chocolates\",\"expiry \":\"12 months\",\"quantity\":10,\"prize\":80},\n",
        "        101:{\"name\":\"eclairs\",\"category\":\"candy\",\"expiry \":\"6 months\",\"quantity\":20,\"prize\":2},\n",
        "        102:{\"name\":\"coca cola\",\"category\":\"cold drinks\",\"expiry\":\"18 months\",\"quantity\":15,\"prize\":20},\n",
        "        103:{\"name\":\"5 star\",\"category\":\"chocolates\",\"expiry \":\"12 months\",\"quantity\":10,\"prize\":80},\n",
        "        104:{\"name\":\"chocolairs\",\"category\":\"candy\",\"expiry \":\"6 months\",\"quantity\":20,\"prize\":2},\n",
        "        105:{\"name\":\"limca\",\"category\":\"cold drinks\",\"expiry\":\"18 months\",\"quantity\":15,\"prize\":20},\n",
        "        106:{\"name\":\"licabils\",\"category\":\"chocolates\",\"expiry \":\"12 months\",\"quantity\":10,\"prize\":80},\n",
        "        107:{\"name\":\"coconut\",\"category\":\"candy\",\"expiry \":\"6 months\",\"quantity\":20,\"prize\":2},\n",
        "        108:{\"name\":\"fanta\",\"category\":\"cold drinks\",\"expiry\":\"18 months\",\"quantity\":15,\"prize\":20},\n",
        "        109:{\"name\":\"fruit&nut\",\"category\":\"chocolates\",\"expiry \":\"12 months\",\"quantity\":10,\"prize\":80},\n",
        "        110:{\"name\":\"just jelly\",\"category\":\"candy\",\"expiry \":\"6 months\",\"quantity\":20,\"prize\":2},\n",
        "        111:{\"name\":\"sprite\",\"category\":\"cold drinks\",\"expiry\":\"18 months\",\"quantity\":15,\"prize\":20},\n",
        "        112:{\"name\":\"milky bar\",\"category\":\"chocolates\",\"expiry \":\"12 months\",\"quantity\":10,\"prize\":80},\n",
        "        113:{\"name\":\"gems\",\"category\":\"candy\",\"expiry \":\"6 months\",\"quantity\":20,\"prize\":2},\n",
        "        114:{\"name\":\"campa cola\",\"category\":\"cold drinks\",\"expiry\":\"18 months\",\"quantity\":15,\"prize\":20},\n",
        "        115:{\"name\":\"dairy milk\",\"category\":\"chocolates\",\"expiry \":\"12 months\",\"quantity\":10,\"prize\":80},\n",
        "        116:{\"name\":\"shots\",\"category\":\"candy\",\"expiry \":\"6 months\",\"quantity\":20,\"prize\":2},\n",
        "        117:{\"name\":\"lemon\",\"category\":\"cold drinks\",\"expiry\":\"18 months\",\"quantity\":15,\"prize\":20},\n",
        "        118:{\"name\":\"oreo\",\"category\":\"chocolates\",\"expiry \":\"12 months\",\"quantity\":10,\"prize\":80},\n",
        "        119:{\"name\":\"pulse\",\"category\":\"candy\",\"expiry \":\"6 months\",\"quantity\":20,\"prize\":2},\n",
        "        120:{\"name\":\"coca\",\"category\":\"cold drinks\",\"expiry\":\"18 months\",\"quantity\":15,\"prize\":20},\n",
        "        121:{\"name\":\"cadbury celebrations\",\"category\":\"chocolates\",\"expiry \":\"12 months\",\"quantity\":10,\"prize\":80},\n",
        "        122:{\"name\":\"bomber\",\"category\":\"candy\",\"expiry \":\"6 months\",\"quantity\":20,\"prize\":2},\n",
        "        123:{\"name\":\"litchi\",\"category\":\"cold drinks\",\"expiry\":\"18 months\",\"quantity\":15,\"prize\":20},\n",
        "        124:{\"name\":\"protein bar\",\"category\":\"chocolates\",\"expiry \":\"12 months\",\"quantity\":10,\"prize\":80},\n",
        "        125:{\"name\":\"jelly\",\"category\":\"candy\",\"expiry \":\"6 months\",\"quantity\":20,\"prize\":2},\n",
        "        126:{\"name\":\"marinda\",\"category\":\"cold drinks\",\"expiry\":\"18 months\",\"quantity\":15,\"prize\":20},\n",
        "        127:{\"name\":\"nuts\",\"category\":\"chocolates\",\"expiry \":\"12 months\",\"quantity\":10,\"prize\":80},\n",
        "        128:{\"name\":\"chew\",\"category\":\"candy\",\"expiry \":\"6 months\",\"quantity\":20,\"prize\":2},\n",
        "        129:{\"name\":\"mountain dew\",\"category\":\"cold drinks\",\"expiry\":\"18 months\",\"quantity\":15,\"prize\":20},\n",
        "        130:{\"name\":\"nestle\",\"category\":\"chocolates\",\"expiry \":\"12 months\",\"quantity\":10,\"prize\":80}}\n",
        "         \n",
        " \n",
        "print(record)"
      ],
      "execution_count": null,
      "outputs": [
        {
          "output_type": "stream",
          "name": "stdout",
          "text": [
            "{100: {'name': 'cadbury silk', 'category': 'chocolates', 'expiry ': '12 months', 'quantity': 10, 'prize': 80}, 101: {'name': 'eclairs', 'category': 'candy', 'expiry ': '6 months', 'quantity': 20, 'prize': 2}, 102: {'name': 'coca cola', 'category': 'cold drinks', 'expiry': '18 months', 'quantity': 15, 'prize': 20}, 103: {'name': '5 star', 'category': 'chocolates', 'expiry ': '12 months', 'quantity': 10, 'prize': 80}, 104: {'name': 'chocolairs', 'category': 'candy', 'expiry ': '6 months', 'quantity': 20, 'prize': 2}, 105: {'name': 'limca', 'category': 'cold drinks', 'expiry': '18 months', 'quantity': 15, 'prize': 20}, 106: {'name': 'licabils', 'category': 'chocolates', 'expiry ': '12 months', 'quantity': 10, 'prize': 80}, 107: {'name': 'coconut', 'category': 'candy', 'expiry ': '6 months', 'quantity': 20, 'prize': 2}, 108: {'name': 'fanta', 'category': 'cold drinks', 'expiry': '18 months', 'quantity': 15, 'prize': 20}, 109: {'name': 'fruit&nut', 'category': 'chocolates', 'expiry ': '12 months', 'quantity': 10, 'prize': 80}, 110: {'name': 'just jelly', 'category': 'candy', 'expiry ': '6 months', 'quantity': 20, 'prize': 2}, 111: {'name': 'sprite', 'category': 'cold drinks', 'expiry': '18 months', 'quantity': 15, 'prize': 20}, 112: {'name': 'milky bar', 'category': 'chocolates', 'expiry ': '12 months', 'quantity': 10, 'prize': 80}, 113: {'name': 'gems', 'category': 'candy', 'expiry ': '6 months', 'quantity': 20, 'prize': 2}, 114: {'name': 'campa cola', 'category': 'cold drinks', 'expiry': '18 months', 'quantity': 15, 'prize': 20}, 115: {'name': 'dairy milk', 'category': 'chocolates', 'expiry ': '12 months', 'quantity': 10, 'prize': 80}, 116: {'name': 'shots', 'category': 'candy', 'expiry ': '6 months', 'quantity': 20, 'prize': 2}, 117: {'name': 'lemon', 'category': 'cold drinks', 'expiry': '18 months', 'quantity': 15, 'prize': 20}, 118: {'name': 'oreo', 'category': 'chocolates', 'expiry ': '12 months', 'quantity': 10, 'prize': 80}, 119: {'name': 'pulse', 'category': 'candy', 'expiry ': '6 months', 'quantity': 20, 'prize': 2}, 120: {'name': 'coca', 'category': 'cold drinks', 'expiry': '18 months', 'quantity': 15, 'prize': 20}, 121: {'name': 'cadbury celebrations', 'category': 'chocolates', 'expiry ': '12 months', 'quantity': 10, 'prize': 80}, 122: {'name': 'bomber', 'category': 'candy', 'expiry ': '6 months', 'quantity': 20, 'prize': 2}, 123: {'name': 'litchi', 'category': 'cold drinks', 'expiry': '18 months', 'quantity': 15, 'prize': 20}, 124: {'name': 'protein bar', 'category': 'chocolates', 'expiry ': '12 months', 'quantity': 10, 'prize': 80}, 125: {'name': 'jelly', 'category': 'candy', 'expiry ': '6 months', 'quantity': 20, 'prize': 2}, 126: {'name': 'marinda', 'category': 'cold drinks', 'expiry': '18 months', 'quantity': 15, 'prize': 20}, 127: {'name': 'nuts', 'category': 'chocolates', 'expiry ': '12 months', 'quantity': 10, 'prize': 80}, 128: {'name': 'chew', 'category': 'candy', 'expiry ': '6 months', 'quantity': 20, 'prize': 2}, 129: {'name': 'mountain dew', 'category': 'cold drinks', 'expiry': '18 months', 'quantity': 15, 'prize': 20}, 130: {'name': 'nestle', 'category': 'chocolates', 'expiry ': '12 months', 'quantity': 10, 'prize': 80}}\n"
          ]
        }
      ]
    },
    {
      "cell_type": "code",
      "metadata": {
        "colab": {
          "base_uri": "https://localhost:8080/"
        },
        "id": "603IgWIInP6F",
        "outputId": "4f231287-bae1-403d-f9be-3553315bcabc"
      },
      "source": [
        "record[100]"
      ],
      "execution_count": null,
      "outputs": [
        {
          "output_type": "execute_result",
          "data": {
            "text/plain": [
              "{'category': 'chocolates',\n",
              " 'expiry ': '12 months',\n",
              " 'name': 'cadbury silk',\n",
              " 'prize': 80,\n",
              " 'quantity': 10}"
            ]
          },
          "metadata": {},
          "execution_count": 182
        }
      ]
    },
    {
      "cell_type": "code",
      "metadata": {
        "id": "Xd1p2W4zXKif"
      },
      "source": [
        "import json"
      ],
      "execution_count": null,
      "outputs": []
    },
    {
      "cell_type": "code",
      "metadata": {
        "id": "yMnOF4yLcYRH"
      },
      "source": [
        "js=json.dumps(record)"
      ],
      "execution_count": null,
      "outputs": []
    },
    {
      "cell_type": "code",
      "metadata": {
        "colab": {
          "base_uri": "https://localhost:8080/",
          "height": 1000
        },
        "id": "KwzfpL7Zde6z",
        "outputId": "8a0b67cb-8f71-4b26-d2dd-d83be4d8d2be"
      },
      "source": [
        "js"
      ],
      "execution_count": null,
      "outputs": [
        {
          "output_type": "execute_result",
          "data": {
            "application/vnd.google.colaboratory.intrinsic+json": {
              "type": "string"
            },
            "text/plain": [
              "'{\"100\": {\"name\": \"cadbury silk\", \"category\": \"chocolates\", \"expiry \": \"12 months\", \"quantity\": 10, \"prize\": 80}, \"101\": {\"name\": \"eclairs\", \"category\": \"candy\", \"expiry \": \"6 months\", \"quantity\": 20, \"prize\": 2}, \"102\": {\"name\": \"coca cola\", \"category\": \"cold drinks\", \"expiry\": \"18 months\", \"quantity\": 15, \"prize\": 20}, \"103\": {\"name\": \"5 star\", \"category\": \"chocolates\", \"expiry \": \"12 months\", \"quantity\": 10, \"prize\": 80}, \"104\": {\"name\": \"chocolairs\", \"category\": \"candy\", \"expiry \": \"6 months\", \"quantity\": 20, \"prize\": 2}, \"105\": {\"name\": \"limca\", \"category\": \"cold drinks\", \"expiry\": \"18 months\", \"quantity\": 15, \"prize\": 20}, \"106\": {\"name\": \"licabils\", \"category\": \"chocolates\", \"expiry \": \"12 months\", \"quantity\": 10, \"prize\": 80}, \"107\": {\"name\": \"coconut\", \"category\": \"candy\", \"expiry \": \"6 months\", \"quantity\": 20, \"prize\": 2}, \"108\": {\"name\": \"fanta\", \"category\": \"cold drinks\", \"expiry\": \"18 months\", \"quantity\": 15, \"prize\": 20}, \"109\": {\"name\": \"fruit&nut\", \"category\": \"chocolates\", \"expiry \": \"12 months\", \"quantity\": 10, \"prize\": 80}, \"110\": {\"name\": \"just jelly\", \"category\": \"candy\", \"expiry \": \"6 months\", \"quantity\": 20, \"prize\": 2}, \"111\": {\"name\": \"sprite\", \"category\": \"cold drinks\", \"expiry\": \"18 months\", \"quantity\": 15, \"prize\": 20}, \"112\": {\"name\": \"milky bar\", \"category\": \"chocolates\", \"expiry \": \"12 months\", \"quantity\": 10, \"prize\": 80}, \"113\": {\"name\": \"gems\", \"category\": \"candy\", \"expiry \": \"6 months\", \"quantity\": 20, \"prize\": 2}, \"114\": {\"name\": \"campa cola\", \"category\": \"cold drinks\", \"expiry\": \"18 months\", \"quantity\": 15, \"prize\": 20}, \"115\": {\"name\": \"dairy milk\", \"category\": \"chocolates\", \"expiry \": \"12 months\", \"quantity\": 10, \"prize\": 80}, \"116\": {\"name\": \"shots\", \"category\": \"candy\", \"expiry \": \"6 months\", \"quantity\": 20, \"prize\": 2}, \"117\": {\"name\": \"lemon\", \"category\": \"cold drinks\", \"expiry\": \"18 months\", \"quantity\": 15, \"prize\": 20}, \"118\": {\"name\": \"oreo\", \"category\": \"chocolates\", \"expiry \": \"12 months\", \"quantity\": 10, \"prize\": 80}, \"119\": {\"name\": \"pulse\", \"category\": \"candy\", \"expiry \": \"6 months\", \"quantity\": 20, \"prize\": 2}, \"120\": {\"name\": \"coca\", \"category\": \"cold drinks\", \"expiry\": \"18 months\", \"quantity\": 15, \"prize\": 20}, \"121\": {\"name\": \"cadbury celebrations\", \"category\": \"chocolates\", \"expiry \": \"12 months\", \"quantity\": 10, \"prize\": 80}, \"122\": {\"name\": \"bomber\", \"category\": \"candy\", \"expiry \": \"6 months\", \"quantity\": 20, \"prize\": 2}, \"123\": {\"name\": \"litchi\", \"category\": \"cold drinks\", \"expiry\": \"18 months\", \"quantity\": 15, \"prize\": 20}, \"124\": {\"name\": \"protein bar\", \"category\": \"chocolates\", \"expiry \": \"12 months\", \"quantity\": 10, \"prize\": 80}, \"125\": {\"name\": \"jelly\", \"category\": \"candy\", \"expiry \": \"6 months\", \"quantity\": 20, \"prize\": 2}, \"126\": {\"name\": \"marinda\", \"category\": \"cold drinks\", \"expiry\": \"18 months\", \"quantity\": 15, \"prize\": 20}, \"127\": {\"name\": \"nuts\", \"category\": \"chocolates\", \"expiry \": \"12 months\", \"quantity\": 10, \"prize\": 80}, \"128\": {\"name\": \"chew\", \"category\": \"candy\", \"expiry \": \"6 months\", \"quantity\": 20, \"prize\": 2}, \"129\": {\"name\": \"mountain dew\", \"category\": \"cold drinks\", \"expiry\": \"18 months\", \"quantity\": 15, \"prize\": 20}, \"130\": {\"name\": \"nestle\", \"category\": \"chocolates\", \"expiry \": \"12 months\", \"quantity\": 10, \"prize\": 80}}'"
            ]
          },
          "metadata": {},
          "execution_count": 154
        }
      ]
    },
    {
      "cell_type": "code",
      "metadata": {
        "id": "KQejatX9Yu_l"
      },
      "source": [
        "record=json.loads(txt)"
      ],
      "execution_count": null,
      "outputs": []
    },
    {
      "cell_type": "code",
      "metadata": {
        "colab": {
          "base_uri": "https://localhost:8080/",
          "height": 1000
        },
        "id": "oI1WGr_0Y30Q",
        "outputId": "d025de63-6803-4dc7-d3ab-af8aa585b9dc"
      },
      "source": [
        "txt"
      ],
      "execution_count": null,
      "outputs": [
        {
          "output_type": "execute_result",
          "data": {
            "application/vnd.google.colaboratory.intrinsic+json": {
              "type": "string"
            },
            "text/plain": [
              "'{\"100\": {\"name\": \"cadbury silk\", \"category\": \"chocolates\", \"expiry \": \"12 months\", \"quantity\": 10, \"prize\": 80}, \"101\": {\"name\": \"eclairs\", \"category\": \"candy\", \"expiry \": \"6 months\", \"quantity\": 20, \"prize\": 2}, \"102\": {\"name\": \"coca cola\", \"category\": \"cold drinks\", \"expiry\": \"18 months\", \"quantity\": 15, \"prize\": 20}, \"103\": {\"name\": \"5 star\", \"category\": \"chocolates\", \"expiry \": \"12 months\", \"quantity\": 10, \"prize\": 80}, \"104\": {\"name\": \"chocolairs\", \"category\": \"candy\", \"expiry \": \"6 months\", \"quantity\": 20, \"prize\": 2}, \"105\": {\"name\": \"limca\", \"category\": \"cold drinks\", \"expiry\": \"18 months\", \"quantity\": 15, \"prize\": 20}, \"106\": {\"name\": \"licabils\", \"category\": \"chocolates\", \"expiry \": \"12 months\", \"quantity\": 10, \"prize\": 80}, \"107\": {\"name\": \"coconut\", \"category\": \"candy\", \"expiry \": \"6 months\", \"quantity\": 20, \"prize\": 2}, \"108\": {\"name\": \"fanta\", \"category\": \"cold drinks\", \"expiry\": \"18 months\", \"quantity\": 15, \"prize\": 20}, \"109\": {\"name\": \"fruit&nut\", \"category\": \"chocolates\", \"expiry \": \"12 months\", \"quantity\": 10, \"prize\": 80}, \"110\": {\"name\": \"just jelly\", \"category\": \"candy\", \"expiry \": \"6 months\", \"quantity\": 20, \"prize\": 2}, \"111\": {\"name\": \"sprite\", \"category\": \"cold drinks\", \"expiry\": \"18 months\", \"quantity\": 15, \"prize\": 20}, \"112\": {\"name\": \"milky bar\", \"category\": \"chocolates\", \"expiry \": \"12 months\", \"quantity\": 10, \"prize\": 80}, \"113\": {\"name\": \"gems\", \"category\": \"candy\", \"expiry \": \"6 months\", \"quantity\": 20, \"prize\": 2}, \"114\": {\"name\": \"campa cola\", \"category\": \"cold drinks\", \"expiry\": \"18 months\", \"quantity\": 15, \"prize\": 20}, \"115\": {\"name\": \"dairy milk\", \"category\": \"chocolates\", \"expiry \": \"12 months\", \"quantity\": 10, \"prize\": 80}, \"116\": {\"name\": \"shots\", \"category\": \"candy\", \"expiry \": \"6 months\", \"quantity\": 20, \"prize\": 2}, \"117\": {\"name\": \"lemon\", \"category\": \"cold drinks\", \"expiry\": \"18 months\", \"quantity\": 15, \"prize\": 20}, \"118\": {\"name\": \"oreo\", \"category\": \"chocolates\", \"expiry \": \"12 months\", \"quantity\": 10, \"prize\": 80}, \"119\": {\"name\": \"pulse\", \"category\": \"candy\", \"expiry \": \"6 months\", \"quantity\": 20, \"prize\": 2}, \"120\": {\"name\": \"coca\", \"category\": \"cold drinks\", \"expiry\": \"18 months\", \"quantity\": 15, \"prize\": 20}, \"121\": {\"name\": \"cadbury celebrations\", \"category\": \"chocolates\", \"expiry \": \"12 months\", \"quantity\": 10, \"prize\": 80}, \"122\": {\"name\": \"bomber\", \"category\": \"candy\", \"expiry \": \"6 months\", \"quantity\": 20, \"prize\": 2}, \"123\": {\"name\": \"litchi\", \"category\": \"cold drinks\", \"expiry\": \"18 months\", \"quantity\": 15, \"prize\": 20}, \"124\": {\"name\": \"protein bar\", \"category\": \"chocolates\", \"expiry \": \"12 months\", \"quantity\": 10, \"prize\": 80}, \"125\": {\"name\": \"jelly\", \"category\": \"candy\", \"expiry \": \"6 months\", \"quantity\": 20, \"prize\": 2}, \"126\": {\"name\": \"marinda\", \"category\": \"cold drinks\", \"expiry\": \"18 months\", \"quantity\": 15, \"prize\": 20}, \"127\": {\"name\": \"nuts\", \"category\": \"chocolates\", \"expiry \": \"12 months\", \"quantity\": 10, \"prize\": 80}, \"128\": {\"name\": \"chew\", \"category\": \"candy\", \"expiry \": \"6 months\", \"quantity\": 20, \"prize\": 2}, \"129\": {\"name\": \"mountain dew\", \"category\": \"cold drinks\", \"expiry\": \"18 months\", \"quantity\": 15, \"prize\": 20}, \"130\": {\"name\": \"nestle\", \"category\": \"chocolates\", \"expiry \": \"12 months\", \"quantity\": 10, \"prize\": 80}}'"
            ]
          },
          "metadata": {},
          "execution_count": 156
        }
      ]
    },
    {
      "cell_type": "code",
      "metadata": {
        "colab": {
          "base_uri": "https://localhost:8080/"
        },
        "id": "xi3nzJwbdfl0",
        "outputId": "1b11f980-ed8f-4724-d516-23ac1f349a51"
      },
      "source": [
        "type(js)"
      ],
      "execution_count": null,
      "outputs": [
        {
          "output_type": "execute_result",
          "data": {
            "text/plain": [
              "str"
            ]
          },
          "metadata": {},
          "execution_count": 157
        }
      ]
    },
    {
      "cell_type": "code",
      "metadata": {
        "id": "mpq2b4lednVs"
      },
      "source": [
        "fd=open(\"record.json\",\"w\")\n",
        " \n",
        "fd.write(js)\n",
        " \n",
        "fd.close()"
      ],
      "execution_count": null,
      "outputs": []
    },
    {
      "cell_type": "code",
      "metadata": {
        "id": "UkSoqCHEeYfk"
      },
      "source": [
        "fd=open(\"record.json\",\"r\")\n",
        "\n",
        "txt=fd.read()\n",
        "\n",
        "fd.close()\n",
        "\n",
        "        "
      ],
      "execution_count": null,
      "outputs": []
    },
    {
      "cell_type": "code",
      "metadata": {
        "id": "pXRj9D1WaKj4"
      },
      "source": [
        "import time"
      ],
      "execution_count": null,
      "outputs": []
    },
    {
      "cell_type": "code",
      "metadata": {
        "colab": {
          "base_uri": "https://localhost:8080/",
          "height": 34
        },
        "id": "Y8ilnChLcKEb",
        "outputId": "8c56a7f7-19d3-4de0-97f6-858b9b2f5f62"
      },
      "source": [
        "time.ctime()"
      ],
      "execution_count": null,
      "outputs": [
        {
          "output_type": "execute_result",
          "data": {
            "application/vnd.google.colaboratory.intrinsic+json": {
              "type": "string"
            },
            "text/plain": [
              "'Wed Sep  1 09:23:31 2021'"
            ]
          },
          "metadata": {},
          "execution_count": 161
        }
      ]
    },
    {
      "cell_type": "code",
      "metadata": {
        "colab": {
          "base_uri": "https://localhost:8080/"
        },
        "id": "H_i-pr0ea0wh",
        "outputId": "2ba37652-db39-4d8e-e520-457b4ba56abf"
      },
      "source": [
        "type(record)\n"
      ],
      "execution_count": null,
      "outputs": [
        {
          "output_type": "execute_result",
          "data": {
            "text/plain": [
              "dict"
            ]
          },
          "metadata": {},
          "execution_count": 170
        }
      ]
    },
    {
      "cell_type": "code",
      "metadata": {
        "colab": {
          "base_uri": "https://localhost:8080/"
        },
        "id": "-kMWz6rRa5RD",
        "outputId": "c5d8276e-faa1-4c76-f355-a0e80e6d2334"
      },
      "source": [
        "record.values()"
      ],
      "execution_count": null,
      "outputs": [
        {
          "output_type": "execute_result",
          "data": {
            "text/plain": [
              "dict_values([{'name': 'cadbury silk', 'category': 'chocolates', 'expiry ': '12 months', 'quantity': 10, 'prize': 80}, {'name': 'eclairs', 'category': 'candy', 'expiry ': '6 months', 'quantity': 20, 'prize': 2}, {'name': 'coca cola', 'category': 'cold drinks', 'expiry': '18 months', 'quantity': 15, 'prize': 20}, {'name': '5 star', 'category': 'chocolates', 'expiry ': '12 months', 'quantity': 10, 'prize': 80}, {'name': 'chocolairs', 'category': 'candy', 'expiry ': '6 months', 'quantity': 20, 'prize': 2}, {'name': 'limca', 'category': 'cold drinks', 'expiry': '18 months', 'quantity': 15, 'prize': 20}, {'name': 'licabils', 'category': 'chocolates', 'expiry ': '12 months', 'quantity': 10, 'prize': 80}, {'name': 'coconut', 'category': 'candy', 'expiry ': '6 months', 'quantity': 20, 'prize': 2}, {'name': 'fanta', 'category': 'cold drinks', 'expiry': '18 months', 'quantity': 15, 'prize': 20}, {'name': 'fruit&nut', 'category': 'chocolates', 'expiry ': '12 months', 'quantity': 10, 'prize': 80}, {'name': 'just jelly', 'category': 'candy', 'expiry ': '6 months', 'quantity': 20, 'prize': 2}, {'name': 'sprite', 'category': 'cold drinks', 'expiry': '18 months', 'quantity': 15, 'prize': 20}, {'name': 'milky bar', 'category': 'chocolates', 'expiry ': '12 months', 'quantity': 10, 'prize': 80}, {'name': 'gems', 'category': 'candy', 'expiry ': '6 months', 'quantity': 20, 'prize': 2}, {'name': 'campa cola', 'category': 'cold drinks', 'expiry': '18 months', 'quantity': 15, 'prize': 20}, {'name': 'dairy milk', 'category': 'chocolates', 'expiry ': '12 months', 'quantity': 10, 'prize': 80}, {'name': 'shots', 'category': 'candy', 'expiry ': '6 months', 'quantity': 20, 'prize': 2}, {'name': 'lemon', 'category': 'cold drinks', 'expiry': '18 months', 'quantity': 15, 'prize': 20}, {'name': 'oreo', 'category': 'chocolates', 'expiry ': '12 months', 'quantity': 10, 'prize': 80}, {'name': 'pulse', 'category': 'candy', 'expiry ': '6 months', 'quantity': 20, 'prize': 2}, {'name': 'coca', 'category': 'cold drinks', 'expiry': '18 months', 'quantity': 15, 'prize': 20}, {'name': 'cadbury celebrations', 'category': 'chocolates', 'expiry ': '12 months', 'quantity': 10, 'prize': 80}, {'name': 'bomber', 'category': 'candy', 'expiry ': '6 months', 'quantity': 20, 'prize': 2}, {'name': 'litchi', 'category': 'cold drinks', 'expiry': '18 months', 'quantity': 15, 'prize': 20}, {'name': 'protein bar', 'category': 'chocolates', 'expiry ': '12 months', 'quantity': 10, 'prize': 80}, {'name': 'jelly', 'category': 'candy', 'expiry ': '6 months', 'quantity': 20, 'prize': 2}, {'name': 'marinda', 'category': 'cold drinks', 'expiry': '18 months', 'quantity': 15, 'prize': 20}, {'name': 'nuts', 'category': 'chocolates', 'expiry ': '12 months', 'quantity': 10, 'prize': 80}, {'name': 'chew', 'category': 'candy', 'expiry ': '6 months', 'quantity': 20, 'prize': 2}, {'name': 'mountain dew', 'category': 'cold drinks', 'expiry': '18 months', 'quantity': 15, 'prize': 20}, {'name': 'nestle', 'category': 'chocolates', 'expiry ': '12 months', 'quantity': 10, 'prize': 80}])"
            ]
          },
          "metadata": {},
          "execution_count": 163
        }
      ]
    },
    {
      "cell_type": "code",
      "metadata": {
        "colab": {
          "base_uri": "https://localhost:8080/"
        },
        "id": "eF0BLMvrn1Dx",
        "outputId": "583e91f6-0962-4270-be73-39c993d47369"
      },
      "source": [
        "c1_key=input(\"enter key:\")\n",
        "c1=input(\"enter quantity:\")"
      ],
      "execution_count": null,
      "outputs": [
        {
          "name": "stdout",
          "output_type": "stream",
          "text": [
            "enter key:130\n",
            "enter quantity:5\n"
          ]
        }
      ]
    },
    {
      "cell_type": "code",
      "metadata": {
        "id": "tA_jVXGhsX3T",
        "colab": {
          "base_uri": "https://localhost:8080/"
        },
        "outputId": "27d7ea65-9c1e-4763-ed7c-9432f69297e2"
      },
      "source": [
        "record[130]"
      ],
      "execution_count": null,
      "outputs": [
        {
          "output_type": "execute_result",
          "data": {
            "text/plain": [
              "{'category': 'chocolates',\n",
              " 'expiry ': '12 months',\n",
              " 'name': 'nestle',\n",
              " 'prize': 80,\n",
              " 'quantity': 10}"
            ]
          },
          "metadata": {},
          "execution_count": 21
        }
      ]
    },
    {
      "cell_type": "markdown",
      "metadata": {
        "id": "_k6KIIEwPMGs"
      },
      "source": [
        ""
      ]
    },
    {
      "cell_type": "code",
      "metadata": {
        "colab": {
          "base_uri": "https://localhost:8080/",
          "height": 34
        },
        "id": "tac7x4kBPM9l",
        "outputId": "208cc8b3-45f0-4cc6-ea3b-c28f58e2ca7c"
      },
      "source": [
        "c1"
      ],
      "execution_count": null,
      "outputs": [
        {
          "output_type": "execute_result",
          "data": {
            "application/vnd.google.colaboratory.intrinsic+json": {
              "type": "string"
            },
            "text/plain": [
              "'5'"
            ]
          },
          "metadata": {},
          "execution_count": 25
        }
      ]
    },
    {
      "cell_type": "code",
      "metadata": {
        "id": "QRzjNq27PdzA"
      },
      "source": [
        "q1=record[130]['quantity']-int(c1)"
      ],
      "execution_count": null,
      "outputs": []
    },
    {
      "cell_type": "code",
      "metadata": {
        "id": "wl2S9XHis4K1",
        "colab": {
          "base_uri": "https://localhost:8080/"
        },
        "outputId": "20f29f31-1e35-4548-9566-e6287ea8af7b"
      },
      "source": [
        "q1"
      ],
      "execution_count": null,
      "outputs": [
        {
          "output_type": "execute_result",
          "data": {
            "text/plain": [
              "5"
            ]
          },
          "metadata": {},
          "execution_count": 27
        }
      ]
    },
    {
      "cell_type": "code",
      "metadata": {
        "id": "WVSKlhK6tGaD"
      },
      "source": [
        "record[130]['quantity']=q1"
      ],
      "execution_count": null,
      "outputs": []
    },
    {
      "cell_type": "code",
      "metadata": {
        "id": "9RQbGmtvtTAy",
        "colab": {
          "base_uri": "https://localhost:8080/"
        },
        "outputId": "ea57004e-adc2-4533-c15d-6259150078a2"
      },
      "source": [
        "record[130]"
      ],
      "execution_count": null,
      "outputs": [
        {
          "output_type": "execute_result",
          "data": {
            "text/plain": [
              "{'category': 'chocolates',\n",
              " 'expiry ': '12 months',\n",
              " 'name': 'nestle',\n",
              " 'prize': 80,\n",
              " 'quantity': 5}"
            ]
          },
          "metadata": {},
          "execution_count": 30
        }
      ]
    },
    {
      "cell_type": "code",
      "metadata": {
        "id": "5ZHZgKKrFz-F"
      },
      "source": [
        "c1_bill=int(c1)*record[130]['prize']"
      ],
      "execution_count": null,
      "outputs": []
    },
    {
      "cell_type": "code",
      "metadata": {
        "colab": {
          "base_uri": "https://localhost:8080/"
        },
        "id": "d1VqFg8EGE8v",
        "outputId": "ded97483-0e1e-4040-e21a-b4e1ca2fbb15"
      },
      "source": [
        "c1_bill"
      ],
      "execution_count": null,
      "outputs": [
        {
          "output_type": "execute_result",
          "data": {
            "text/plain": [
              "400"
            ]
          },
          "metadata": {},
          "execution_count": 29
        }
      ]
    },
    {
      "cell_type": "code",
      "metadata": {
        "id": "5qPZK0j6uwuu",
        "colab": {
          "base_uri": "https://localhost:8080/"
        },
        "outputId": "7b3ea10d-14e3-452c-d6b7-bf324104e6c8"
      },
      "source": [
        "c2_key=input(\"enter key:\")"
      ],
      "execution_count": null,
      "outputs": [
        {
          "name": "stdout",
          "output_type": "stream",
          "text": [
            "enter key:110\n"
          ]
        }
      ]
    },
    {
      "cell_type": "code",
      "metadata": {
        "colab": {
          "base_uri": "https://localhost:8080/"
        },
        "id": "4IaP74Z3EWeH",
        "outputId": "c653006f-6ce7-451c-c69d-7b59f53fbacd"
      },
      "source": [
        "c2=input(\"enter quantity:\")"
      ],
      "execution_count": null,
      "outputs": [
        {
          "name": "stdout",
          "output_type": "stream",
          "text": [
            "enter quantity:2\n"
          ]
        }
      ]
    },
    {
      "cell_type": "code",
      "metadata": {
        "id": "EdK5WtIiEuQ_"
      },
      "source": [
        "q2=record[110]['quantity']-int(c2)"
      ],
      "execution_count": null,
      "outputs": []
    },
    {
      "cell_type": "code",
      "metadata": {
        "colab": {
          "base_uri": "https://localhost:8080/"
        },
        "id": "FeABF1A4FAnT",
        "outputId": "de2da137-98e1-44d2-8294-3593d02daa15"
      },
      "source": [
        "q2"
      ],
      "execution_count": null,
      "outputs": [
        {
          "output_type": "execute_result",
          "data": {
            "text/plain": [
              "18"
            ]
          },
          "metadata": {},
          "execution_count": 34
        }
      ]
    },
    {
      "cell_type": "code",
      "metadata": {
        "id": "qM_NJHM0FDnY"
      },
      "source": [
        "record[110]['quantity']=q2"
      ],
      "execution_count": null,
      "outputs": []
    },
    {
      "cell_type": "code",
      "metadata": {
        "colab": {
          "base_uri": "https://localhost:8080/"
        },
        "id": "4FHgoY3MFLjb",
        "outputId": "a084516b-841b-4e4a-f12a-7ead79e4ed54"
      },
      "source": [
        "record[110]"
      ],
      "execution_count": null,
      "outputs": [
        {
          "output_type": "execute_result",
          "data": {
            "text/plain": [
              "{'category': 'candy',\n",
              " 'expiry ': '6 months',\n",
              " 'name': 'just jelly',\n",
              " 'prize': 2,\n",
              " 'quantity': 18}"
            ]
          },
          "metadata": {},
          "execution_count": 36
        }
      ]
    },
    {
      "cell_type": "code",
      "metadata": {
        "id": "Sn72bjFkFPcA"
      },
      "source": [
        "c2_bill=record[110]['prize']*int(c2)"
      ],
      "execution_count": null,
      "outputs": []
    },
    {
      "cell_type": "code",
      "metadata": {
        "colab": {
          "base_uri": "https://localhost:8080/"
        },
        "id": "HLTtQqzyGPJU",
        "outputId": "d43a3df5-9be6-41c3-f893-25867330dca5"
      },
      "source": [
        "c2_bill"
      ],
      "execution_count": null,
      "outputs": [
        {
          "output_type": "execute_result",
          "data": {
            "text/plain": [
              "4"
            ]
          },
          "metadata": {},
          "execution_count": 38
        }
      ]
    },
    {
      "cell_type": "code",
      "metadata": {
        "colab": {
          "base_uri": "https://localhost:8080/"
        },
        "id": "7EHceFBnGTs1",
        "outputId": "7e5291ba-7552-4772-ea51-29fd4592f7d8"
      },
      "source": [
        "c3_key=input(\"enter key:\")\n",
        "c3=input(\"enter quantity:\")"
      ],
      "execution_count": null,
      "outputs": [
        {
          "name": "stdout",
          "output_type": "stream",
          "text": [
            "enter key:100\n",
            "enter quantity:5\n"
          ]
        }
      ]
    },
    {
      "cell_type": "code",
      "metadata": {
        "colab": {
          "base_uri": "https://localhost:8080/"
        },
        "id": "vpF5CcNdGiJA",
        "outputId": "922469a0-5dcc-454f-fa4c-657ebabcdc0b"
      },
      "source": [
        "record[100]"
      ],
      "execution_count": null,
      "outputs": [
        {
          "output_type": "execute_result",
          "data": {
            "text/plain": [
              "{'category': 'chocolates',\n",
              " 'expiry ': '12 months',\n",
              " 'name': 'cadbury silk',\n",
              " 'prize': 80,\n",
              " 'quantity': 10}"
            ]
          },
          "metadata": {},
          "execution_count": 37
        }
      ]
    },
    {
      "cell_type": "code",
      "metadata": {
        "id": "j2YLny6qGpuF"
      },
      "source": [
        "q3=record[100]['quantity']-int(c3)"
      ],
      "execution_count": null,
      "outputs": []
    },
    {
      "cell_type": "code",
      "metadata": {
        "id": "5Ps7g3uvG_9I"
      },
      "source": [
        "record[100]['quantity']=q3"
      ],
      "execution_count": null,
      "outputs": []
    },
    {
      "cell_type": "code",
      "metadata": {
        "colab": {
          "base_uri": "https://localhost:8080/"
        },
        "id": "3kOmyjRMHJGx",
        "outputId": "0bd49fd1-2f96-4dbd-b66b-962683580bbf"
      },
      "source": [
        "record[100]"
      ],
      "execution_count": null,
      "outputs": [
        {
          "output_type": "execute_result",
          "data": {
            "text/plain": [
              "{'category': 'chocolates',\n",
              " 'expiry ': '12 months',\n",
              " 'name': 'cadbury silk',\n",
              " 'prize': 80,\n",
              " 'quantity': 5}"
            ]
          },
          "metadata": {},
          "execution_count": 48
        }
      ]
    },
    {
      "cell_type": "code",
      "metadata": {
        "id": "X_GuJlOHHdGK"
      },
      "source": [
        "c3_bill=record[100]['prize']*int(c3)"
      ],
      "execution_count": null,
      "outputs": []
    },
    {
      "cell_type": "code",
      "metadata": {
        "colab": {
          "base_uri": "https://localhost:8080/"
        },
        "id": "83IWhgfHHw2g",
        "outputId": "0311380b-aa32-4ee1-c000-1d84ccb332dd"
      },
      "source": [
        "c3_bill"
      ],
      "execution_count": null,
      "outputs": [
        {
          "output_type": "execute_result",
          "data": {
            "text/plain": [
              "400"
            ]
          },
          "metadata": {},
          "execution_count": 42
        }
      ]
    },
    {
      "cell_type": "code",
      "metadata": {
        "colab": {
          "base_uri": "https://localhost:8080/"
        },
        "id": "ISZZz8vpH2HZ",
        "outputId": "0c23cc02-397a-49bd-c134-36a83c6c0738"
      },
      "source": [
        "record.values()"
      ],
      "execution_count": null,
      "outputs": [
        {
          "output_type": "execute_result",
          "data": {
            "text/plain": [
              "dict_values([{'name': 'cadbury silk', 'category': 'chocolates', 'expiry ': '12 months', 'quantity': 5, 'prize': 80}, {'name': 'eclairs', 'category': 'candy', 'expiry ': '6 months', 'quantity': 20, 'prize': 2}, {'name': 'coca cola', 'category': 'cold drinks', 'expiry': '18 months', 'quantity': 15, 'prize': 20}, {'name': '5 star', 'category': 'chocolates', 'expiry ': '12 months', 'quantity': 10, 'prize': 80}, {'name': 'chocolairs', 'category': 'candy', 'expiry ': '6 months', 'quantity': 20, 'prize': 2}, {'name': 'limca', 'category': 'cold drinks', 'expiry': '18 months', 'quantity': 15, 'prize': 20}, {'name': 'licabils', 'category': 'chocolates', 'expiry ': '12 months', 'quantity': 10, 'prize': 80}, {'name': 'coconut', 'category': 'candy', 'expiry ': '6 months', 'quantity': 20, 'prize': 2}, {'name': 'fanta', 'category': 'cold drinks', 'expiry': '18 months', 'quantity': 15, 'prize': 20}, {'name': 'fruit&nut', 'category': 'chocolates', 'expiry ': '12 months', 'quantity': 10, 'prize': 80}, {'name': 'just jelly', 'category': 'candy', 'expiry ': '6 months', 'quantity': 18, 'prize': 2}, {'name': 'sprite', 'category': 'cold drinks', 'expiry': '18 months', 'quantity': 15, 'prize': 20}, {'name': 'milky bar', 'category': 'chocolates', 'expiry ': '12 months', 'quantity': 10, 'prize': 80}, {'name': 'gems', 'category': 'candy', 'expiry ': '6 months', 'quantity': 20, 'prize': 2}, {'name': 'campa cola', 'category': 'cold drinks', 'expiry': '18 months', 'quantity': 15, 'prize': 20}, {'name': 'dairy milk', 'category': 'chocolates', 'expiry ': '12 months', 'quantity': 10, 'prize': 80}, {'name': 'shots', 'category': 'candy', 'expiry ': '6 months', 'quantity': 20, 'prize': 2}, {'name': 'lemon', 'category': 'cold drinks', 'expiry': '18 months', 'quantity': 15, 'prize': 20}, {'name': 'oreo', 'category': 'chocolates', 'expiry ': '12 months', 'quantity': 10, 'prize': 80}, {'name': 'pulse', 'category': 'candy', 'expiry ': '6 months', 'quantity': 20, 'prize': 2}, {'name': 'coca', 'category': 'cold drinks', 'expiry': '18 months', 'quantity': 15, 'prize': 20}, {'name': 'cadbury celebrations', 'category': 'chocolates', 'expiry ': '12 months', 'quantity': 10, 'prize': 80}, {'name': 'bomber', 'category': 'candy', 'expiry ': '6 months', 'quantity': 20, 'prize': 2}, {'name': 'litchi', 'category': 'cold drinks', 'expiry': '18 months', 'quantity': 15, 'prize': 20}, {'name': 'protein bar', 'category': 'chocolates', 'expiry ': '12 months', 'quantity': 10, 'prize': 80}, {'name': 'jelly', 'category': 'candy', 'expiry ': '6 months', 'quantity': 20, 'prize': 2}, {'name': 'marinda', 'category': 'cold drinks', 'expiry': '18 months', 'quantity': 15, 'prize': 20}, {'name': 'nuts', 'category': 'chocolates', 'expiry ': '12 months', 'quantity': 10, 'prize': 80}, {'name': 'chew', 'category': 'candy', 'expiry ': '6 months', 'quantity': 20, 'prize': 2}, {'name': 'mountain dew', 'category': 'cold drinks', 'expiry': '18 months', 'quantity': 15, 'prize': 20}, {'name': 'nestle', 'category': 'chocolates', 'expiry ': '12 months', 'quantity': 5, 'prize': 80}])"
            ]
          },
          "metadata": {},
          "execution_count": 51
        }
      ]
    },
    {
      "cell_type": "code",
      "metadata": {
        "colab": {
          "base_uri": "https://localhost:8080/"
        },
        "id": "2tGErs0EJHMQ",
        "outputId": "622fae55-caf2-497d-a96d-d5407659fde3"
      },
      "source": [
        "record.keys()"
      ],
      "execution_count": null,
      "outputs": [
        {
          "output_type": "execute_result",
          "data": {
            "text/plain": [
              "dict_keys([100, 101, 102, 103, 104, 105, 106, 107, 108, 109, 110, 111, 112, 113, 114, 115, 116, 117, 118, 119, 120, 121, 122, 123, 124, 125, 126, 127, 128, 129, 130])"
            ]
          },
          "metadata": {},
          "execution_count": 52
        }
      ]
    },
    {
      "cell_type": "code",
      "metadata": {
        "colab": {
          "base_uri": "https://localhost:8080/"
        },
        "id": "dLLSsZZ4JRqq",
        "outputId": "69bdbe7d-d808-49ed-ecf6-4ddc025ed766"
      },
      "source": [
        "c4_key=input(\"enter key:\")\n",
        "c4=input(\"enter quantity:\")"
      ],
      "execution_count": null,
      "outputs": [
        {
          "name": "stdout",
          "output_type": "stream",
          "text": [
            "enter key:116\n",
            "enter quantity:4\n"
          ]
        }
      ]
    },
    {
      "cell_type": "code",
      "metadata": {
        "colab": {
          "base_uri": "https://localhost:8080/",
          "height": 34
        },
        "id": "K6liELUoKSf7",
        "outputId": "a545e5e8-dc77-4fd1-9a4e-c7651d4d0375"
      },
      "source": [
        "c4"
      ],
      "execution_count": null,
      "outputs": [
        {
          "output_type": "execute_result",
          "data": {
            "application/vnd.google.colaboratory.intrinsic+json": {
              "type": "string"
            },
            "text/plain": [
              "'4'"
            ]
          },
          "metadata": {},
          "execution_count": 64
        }
      ]
    },
    {
      "cell_type": "code",
      "metadata": {
        "colab": {
          "base_uri": "https://localhost:8080/"
        },
        "id": "U9xgp12bKoXd",
        "outputId": "f90d7b3c-6319-4ebf-93cd-f6e42f37faeb"
      },
      "source": [
        "record[116]"
      ],
      "execution_count": null,
      "outputs": [
        {
          "output_type": "execute_result",
          "data": {
            "text/plain": [
              "{'category': 'candy',\n",
              " 'expiry ': '6 months',\n",
              " 'name': 'shots',\n",
              " 'prize': 2,\n",
              " 'quantity': 20}"
            ]
          },
          "metadata": {},
          "execution_count": 67
        }
      ]
    },
    {
      "cell_type": "code",
      "metadata": {
        "id": "sH74JlSVKDY7"
      },
      "source": [
        "q4=record[116]['quantity']-int(c4)"
      ],
      "execution_count": null,
      "outputs": []
    },
    {
      "cell_type": "code",
      "metadata": {
        "id": "1BbM-2GwKXei"
      },
      "source": [
        "record[116]['quantity']=q4"
      ],
      "execution_count": null,
      "outputs": []
    },
    {
      "cell_type": "code",
      "metadata": {
        "colab": {
          "base_uri": "https://localhost:8080/"
        },
        "id": "uNalV2R4KfIO",
        "outputId": "88d55a2f-1384-4b86-cbaa-b81dd57650c9"
      },
      "source": [
        "record[116]"
      ],
      "execution_count": null,
      "outputs": [
        {
          "output_type": "execute_result",
          "data": {
            "text/plain": [
              "{'category': 'candy',\n",
              " 'expiry ': '6 months',\n",
              " 'name': 'shots',\n",
              " 'prize': 2,\n",
              " 'quantity': 16}"
            ]
          },
          "metadata": {},
          "execution_count": 70
        }
      ]
    },
    {
      "cell_type": "code",
      "metadata": {
        "id": "ijR7x9hVKz_B"
      },
      "source": [
        "c4_bill=record[116]['prize']*int(c4)"
      ],
      "execution_count": null,
      "outputs": []
    },
    {
      "cell_type": "code",
      "metadata": {
        "colab": {
          "base_uri": "https://localhost:8080/"
        },
        "id": "ZQDz1vN1LHjz",
        "outputId": "39acb782-4ae9-42a0-a5ba-ad19b5837054"
      },
      "source": [
        "c4_bill"
      ],
      "execution_count": null,
      "outputs": [
        {
          "output_type": "execute_result",
          "data": {
            "text/plain": [
              "8"
            ]
          },
          "metadata": {},
          "execution_count": 16
        }
      ]
    },
    {
      "cell_type": "code",
      "metadata": {
        "colab": {
          "base_uri": "https://localhost:8080/"
        },
        "id": "O_q6FRAPLWV_",
        "outputId": "2e0d4b78-17bb-41c7-a115-4c39fc2d5275"
      },
      "source": [
        "record"
      ],
      "execution_count": null,
      "outputs": [
        {
          "output_type": "execute_result",
          "data": {
            "text/plain": [
              "{100: {'category': 'chocolates',\n",
              "  'expiry ': '12 months',\n",
              "  'name': 'cadbury silk',\n",
              "  'prize': 80,\n",
              "  'quantity': 10},\n",
              " 101: {'category': 'candy',\n",
              "  'expiry ': '6 months',\n",
              "  'name': 'eclairs',\n",
              "  'prize': 2,\n",
              "  'quantity': 20},\n",
              " 102: {'category': 'cold drinks',\n",
              "  'expiry': '18 months',\n",
              "  'name': 'coca cola',\n",
              "  'prize': 20,\n",
              "  'quantity': 15},\n",
              " 103: {'category': 'chocolates',\n",
              "  'expiry ': '12 months',\n",
              "  'name': '5 star',\n",
              "  'prize': 80,\n",
              "  'quantity': 10},\n",
              " 104: {'category': 'candy',\n",
              "  'expiry ': '6 months',\n",
              "  'name': 'chocolairs',\n",
              "  'prize': 2,\n",
              "  'quantity': 20},\n",
              " 105: {'category': 'cold drinks',\n",
              "  'expiry': '18 months',\n",
              "  'name': 'limca',\n",
              "  'prize': 20,\n",
              "  'quantity': 15},\n",
              " 106: {'category': 'chocolates',\n",
              "  'expiry ': '12 months',\n",
              "  'name': 'licabils',\n",
              "  'prize': 80,\n",
              "  'quantity': 10},\n",
              " 107: {'category': 'candy',\n",
              "  'expiry ': '6 months',\n",
              "  'name': 'coconut',\n",
              "  'prize': 2,\n",
              "  'quantity': 20},\n",
              " 108: {'category': 'cold drinks',\n",
              "  'expiry': '18 months',\n",
              "  'name': 'fanta',\n",
              "  'prize': 20,\n",
              "  'quantity': 15},\n",
              " 109: {'category': 'chocolates',\n",
              "  'expiry ': '12 months',\n",
              "  'name': 'fruit&nut',\n",
              "  'prize': 80,\n",
              "  'quantity': 10},\n",
              " 110: {'category': 'candy',\n",
              "  'expiry ': '6 months',\n",
              "  'name': 'just jelly',\n",
              "  'prize': 2,\n",
              "  'quantity': 20},\n",
              " 111: {'category': 'cold drinks',\n",
              "  'expiry': '18 months',\n",
              "  'name': 'sprite',\n",
              "  'prize': 20,\n",
              "  'quantity': 15},\n",
              " 112: {'category': 'chocolates',\n",
              "  'expiry ': '12 months',\n",
              "  'name': 'milky bar',\n",
              "  'prize': 80,\n",
              "  'quantity': 10},\n",
              " 113: {'category': 'candy',\n",
              "  'expiry ': '6 months',\n",
              "  'name': 'gems',\n",
              "  'prize': 2,\n",
              "  'quantity': 20},\n",
              " 114: {'category': 'cold drinks',\n",
              "  'expiry': '18 months',\n",
              "  'name': 'campa cola',\n",
              "  'prize': 20,\n",
              "  'quantity': 15},\n",
              " 115: {'category': 'chocolates',\n",
              "  'expiry ': '12 months',\n",
              "  'name': 'dairy milk',\n",
              "  'prize': 80,\n",
              "  'quantity': 10},\n",
              " 116: {'category': 'candy',\n",
              "  'expiry ': '6 months',\n",
              "  'name': 'shots',\n",
              "  'prize': 2,\n",
              "  'quantity': 16},\n",
              " 117: {'category': 'cold drinks',\n",
              "  'expiry': '18 months',\n",
              "  'name': 'lemon',\n",
              "  'prize': 20,\n",
              "  'quantity': 15},\n",
              " 118: {'category': 'chocolates',\n",
              "  'expiry ': '12 months',\n",
              "  'name': 'oreo',\n",
              "  'prize': 80,\n",
              "  'quantity': 10},\n",
              " 119: {'category': 'candy',\n",
              "  'expiry ': '6 months',\n",
              "  'name': 'pulse',\n",
              "  'prize': 2,\n",
              "  'quantity': 20},\n",
              " 120: {'category': 'cold drinks',\n",
              "  'expiry': '18 months',\n",
              "  'name': 'coca',\n",
              "  'prize': 20,\n",
              "  'quantity': 15},\n",
              " 121: {'category': 'chocolates',\n",
              "  'expiry ': '12 months',\n",
              "  'name': 'cadbury celebrations',\n",
              "  'prize': 80,\n",
              "  'quantity': 10},\n",
              " 122: {'category': 'candy',\n",
              "  'expiry ': '6 months',\n",
              "  'name': 'bomber',\n",
              "  'prize': 2,\n",
              "  'quantity': 20},\n",
              " 123: {'category': 'cold drinks',\n",
              "  'expiry': '18 months',\n",
              "  'name': 'litchi',\n",
              "  'prize': 20,\n",
              "  'quantity': 15},\n",
              " 124: {'category': 'chocolates',\n",
              "  'expiry ': '12 months',\n",
              "  'name': 'protein bar',\n",
              "  'prize': 80,\n",
              "  'quantity': 10},\n",
              " 125: {'category': 'candy',\n",
              "  'expiry ': '6 months',\n",
              "  'name': 'jelly',\n",
              "  'prize': 2,\n",
              "  'quantity': 20},\n",
              " 126: {'category': 'cold drinks',\n",
              "  'expiry': '18 months',\n",
              "  'name': 'marinda',\n",
              "  'prize': 20,\n",
              "  'quantity': 15},\n",
              " 127: {'category': 'chocolates',\n",
              "  'expiry ': '12 months',\n",
              "  'name': 'nuts',\n",
              "  'prize': 80,\n",
              "  'quantity': 10},\n",
              " 128: {'category': 'candy',\n",
              "  'expiry ': '6 months',\n",
              "  'name': 'chew',\n",
              "  'prize': 2,\n",
              "  'quantity': 20},\n",
              " 129: {'category': 'cold drinks',\n",
              "  'expiry': '18 months',\n",
              "  'name': 'mountain dew',\n",
              "  'prize': 20,\n",
              "  'quantity': 15},\n",
              " 130: {'category': 'chocolates',\n",
              "  'expiry ': '12 months',\n",
              "  'name': 'nestle',\n",
              "  'prize': 80,\n",
              "  'quantity': 10}}"
            ]
          },
          "metadata": {},
          "execution_count": 80
        }
      ]
    },
    {
      "cell_type": "code",
      "metadata": {
        "id": "eKLntO8jLytX"
      },
      "source": [
        "total_products_sold=int(c1)+int(c2)+int(c3)+int(c4)"
      ],
      "execution_count": null,
      "outputs": []
    },
    {
      "cell_type": "code",
      "metadata": {
        "colab": {
          "base_uri": "https://localhost:8080/"
        },
        "id": "Tu4vpyMhL4ve",
        "outputId": "96ddd886-d36d-48ce-ac18-ce26f0031be0"
      },
      "source": [
        "total_products_sold"
      ],
      "execution_count": null,
      "outputs": [
        {
          "output_type": "execute_result",
          "data": {
            "text/plain": [
              "16"
            ]
          },
          "metadata": {},
          "execution_count": 47
        }
      ]
    },
    {
      "cell_type": "code",
      "metadata": {
        "id": "9eMGs6XRNwul"
      },
      "source": [
        "total_sales=int(c1_bill)+int(c2_bill)+int(c3_bill)+int(c4_bill)"
      ],
      "execution_count": null,
      "outputs": []
    },
    {
      "cell_type": "code",
      "metadata": {
        "colab": {
          "base_uri": "https://localhost:8080/"
        },
        "id": "acDwDN38O50_",
        "outputId": "78766a0a-8cf2-4cea-afef-1b0c0dc7ef37"
      },
      "source": [
        "total_sales"
      ],
      "execution_count": null,
      "outputs": [
        {
          "output_type": "execute_result",
          "data": {
            "text/plain": [
              "812"
            ]
          },
          "metadata": {},
          "execution_count": 20
        }
      ]
    }
  ]
}